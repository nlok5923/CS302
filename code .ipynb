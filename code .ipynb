{
 "cells": [
  {
   "cell_type": "code",
   "execution_count": 24,
   "metadata": {},
   "outputs": [],
   "source": [
    "import math\n",
    "import random"
   ]
  },
  {
   "cell_type": "code",
   "execution_count": 25,
   "metadata": {},
   "outputs": [
    {
     "data": {
      "text/plain": [
       "['S1', 'S2', 'S3', 'S4', 'S5', 'S6']"
      ]
     },
     "execution_count": 25,
     "metadata": {},
     "output_type": "execute_result"
    }
   ],
   "source": [
    "with open('./input.txt') as file:\n",
    "    projects = file.read().split()\n",
    "projects"
   ]
  },
  {
   "cell_type": "code",
   "execution_count": 26,
   "metadata": {},
   "outputs": [],
   "source": [
    "# no of teachers \n",
    "thrs_c = 4\n",
    "# = int(input('Enter no. of teachers '))\n",
    "# no of students \n",
    "stds_c = 4\n",
    "# int(input('Enter no. of students '))"
   ]
  },
  {
   "cell_type": "code",
   "execution_count": 27,
   "metadata": {},
   "outputs": [],
   "source": [
    "stds = {}\n",
    "thrs = {}\n",
    "# limit of each teacher \n",
    "T_LIM = 2"
   ]
  },
  {
   "cell_type": "code",
   "execution_count": 28,
   "metadata": {},
   "outputs": [
    {
     "data": {
      "text/plain": [
       "{0: ['S2', 'S3', 'S4', 'S5'],\n",
       " 1: ['S2', 'S3', 'S4', 'S5'],\n",
       " 2: ['S1', 'S2', 'S3', 'S4'],\n",
       " 3: ['S2', 'S3', 'S4', 'S5']}"
      ]
     },
     "execution_count": 28,
     "metadata": {},
     "output_type": "execute_result"
    }
   ],
   "source": [
    "# preferences of students to the projects \n",
    "for i in range(stds_c):\n",
    "    idx = random.randint(0, len(projects) - 5)\n",
    "    stds[i] = [projects[idx + j] for j in range(4)]\n",
    "stds"
   ]
  },
  {
   "cell_type": "code",
   "execution_count": 29,
   "metadata": {},
   "outputs": [
    {
     "data": {
      "text/plain": [
       "{0: ['S2', 'S3', 'S4', 'S5'],\n",
       " 1: ['S2', 'S3', 'S4', 'S5'],\n",
       " 2: ['S2', 'S3', 'S4', 'S5'],\n",
       " 3: ['S1', 'S2', 'S3', 'S4']}"
      ]
     },
     "execution_count": 29,
     "metadata": {},
     "output_type": "execute_result"
    }
   ],
   "source": [
    " #//!Need to make it more random \n",
    "# preferences of teachers to the projects \n",
    "for i in range(thrs_c):\n",
    "    idx = random.randint(0, len(projects) - 5)\n",
    "    thrs[i] = [projects[idx + j] for j in range(4)]\n",
    "thrs"
   ]
  },
  {
   "cell_type": "code",
   "execution_count": 30,
   "metadata": {},
   "outputs": [
    {
     "name": "stdout",
     "output_type": "stream",
     "text": [
      "Students - \n",
      "{0: ['S2', 'S3', 'S4', 'S5'], 1: ['S2', 'S3', 'S4', 'S5'], 2: ['S1', 'S2', 'S3', 'S4'], 3: ['S2', 'S3', 'S4', 'S5']}\n",
      "Teachers - \n",
      "{0: ['S2', 'S3', 'S4', 'S5'], 1: ['S2', 'S3', 'S4', 'S5'], 2: ['S2', 'S3', 'S4', 'S5'], 3: ['S1', 'S2', 'S3', 'S4']}\n"
     ]
    }
   ],
   "source": [
    "print('Students - ')\n",
    "print(stds)\n",
    "print('Teachers - ')\n",
    "print(thrs)"
   ]
  },
  {
   "cell_type": "code",
   "execution_count": 31,
   "metadata": {},
   "outputs": [
    {
     "name": "stdout",
     "output_type": "stream",
     "text": [
      "Normal mapping {'S1': 0, 'S2': 1, 'S3': 2, 'S4': 3, 'S5': 4, 'S6': 5}\n",
      "R mapping {0: 'S1', 1: 'S2', 2: 'S3', 3: 'S4', 4: 'S5', 5: 'S6'}\n"
     ]
    }
   ],
   "source": [
    "mapping = {i : idx for idx, i in enumerate(projects)}\n",
    "r_mapping = {idx : i for i, idx in mapping.items()}\n",
    "print(\"Normal mapping project -> number\", mapping)\n",
    "print(\"R mapping\", r_mapping)\n",
    "# r_mapping\n",
    "# // basically here we are mapping project to their serial number "
   ]
  },
  {
   "cell_type": "code",
   "execution_count": 32,
   "metadata": {},
   "outputs": [],
   "source": [
    "stlen = len(stds)\n",
    "prlen = len(projects)\n",
    "thrlen = len(thrs)\n",
    "# stlen\n",
    "# prlen\n",
    "# thrlen"
   ]
  },
  {
   "cell_type": "code",
   "execution_count": 33,
   "metadata": {},
   "outputs": [],
   "source": [
    "def check_constraints(matrix):\n",
    "    # below forloop checks that each column should have only 1 cell with 1 else we will return false\n",
    "    for i in matrix:\n",
    "        count = 0\n",
    "        for j in i:\n",
    "            if j == 1:\n",
    "                count += 1\n",
    "        if count > 1:\n",
    "            return False\n",
    "    \n",
    "    # finding rowlength and column length \n",
    "    rlen = len(matrix)\n",
    "    clen = len(matrix[0])\n",
    "\n",
    "    # now we are checking that each row should have only 1 cell with 1 else again return false \n",
    "    for column in range(clen):\n",
    "        count = 0\n",
    "        for row in range(rlen):\n",
    "            if matrix[row][column] == 1:\n",
    "                count += 1\n",
    "        if count > 1:\n",
    "            return False\n",
    "\n",
    "    # now we re checking that the project assigned to the student is in his preference or not if yes return true else return false \n",
    "    for sidx, student in enumerate(matrix):\n",
    "        for idx, choice in enumerate(student):\n",
    "            if choice == 1:\n",
    "                if not (r_mapping[idx] in  stds[sidx]):\n",
    "                    return False\n",
    "\n",
    "    return True"
   ]
  },
  {
   "cell_type": "code",
   "execution_count": 34,
   "metadata": {},
   "outputs": [],
   "source": [
    "# assigning teacher to students via recursion\n",
    "def recurse_call(teach, assign, level, ans_seq):\n",
    "    res_seq = []\n",
    "    # base case for last student ig\n",
    "    if level == stlen - 1:\n",
    "        for i in assign[level]:\n",
    "            if teach[i] + 1 <= T_LIM:\n",
    "                ans_seq.append(i)\n",
    "                return ans_seq, True\n",
    "        return ans_seq, False\n",
    "    \n",
    "    for i in assign[level]:\n",
    "        if teach[i] + 1 <= T_LIM:\n",
    "            teach[i] += 1\n",
    "            res_seq, ans = recurse_call(teach.copy(), assign.copy(), level + 1, ans_seq)\n",
    "            teach[i] -= 1\n",
    "            if ans == True:\n",
    "                res_seq.append(i)\n",
    "                return res_seq,True\n",
    "    return res_seq, False"
   ]
  },
  {
   "cell_type": "code",
   "execution_count": 35,
   "metadata": {},
   "outputs": [],
   "source": [
    "# code to check teacher constraints like no teacher should get overburdened with more no of projects then they said \n",
    "def teach_constraint(matrix):\n",
    "    assign = []\n",
    "    for row in matrix:\n",
    "        for cidx, col in enumerate(row):\n",
    "            if col == 1:\n",
    "                temp = []\n",
    "                for teacher, subject in thrs.items():\n",
    "                    if r_mapping[cidx] in subject:\n",
    "                        temp.append(teacher)\n",
    "        assign.append(temp)\n",
    "    teach = [0 for i in range(thrlen)]\n",
    "    ans = False\n",
    "    res_seq = []\n",
    "    for val in assign[0]:\n",
    "        teach[val] = 1\n",
    "        res_seq, ans = recurse_call(teach.copy(), assign.copy(), 1, [])\n",
    "        teach[val] = 0\n",
    "        if ans == True:\n",
    "            res_seq.append(val)\n",
    "            return res_seq, True\n",
    "    return res_seq,False"
   ]
  },
  {
   "cell_type": "code",
   "execution_count": 36,
   "metadata": {},
   "outputs": [],
   "source": [
    "# generating random matix \n",
    "#! Need to add check constraints like only teacher constraint is checked till now\n",
    "def random_gen():\n",
    "    matrix = [[0 for j in range(prlen)] for i in range(stlen)]\n",
    "    booked = []\n",
    "    t_idx = []\n",
    "\n",
    "    while True:\n",
    "        for i in range(stlen):\n",
    "            idx = random.randint(0,len(projects) - 1)\n",
    "            while not(r_mapping[idx] in stds[i]) or idx in booked:\n",
    "                idx = random.randint(0,len(projects) - 1)\n",
    "            matrix[i][idx] = 1\n",
    "            booked.append(idx)\n",
    "        res_seq, val = teach_constraint(matrix)\n",
    "        if val:\n",
    "            return matrix.copy()\n",
    "\n",
    "    return matrix\n",
    "        # if check_constraints(matrix):\n",
    "        #     return matrix.copy()\n",
    "        # else:\n",
    "        #     for i in matrix:\n",
    "        #         for j in range(len(i)):\n",
    "        #             i[j] = 0"
   ]
  },
  {
   "cell_type": "code",
   "execution_count": 37,
   "metadata": {},
   "outputs": [],
   "source": [
    "# constant for objective function\n",
    "C = 12"
   ]
  },
  {
   "cell_type": "code",
   "execution_count": 38,
   "metadata": {},
   "outputs": [],
   "source": [
    "# objective function as present in paper \n",
    "def obj_fun(matrix):\n",
    "    val = 0\n",
    "    for ridx, row in enumerate(matrix):\n",
    "        for cidx, col in enumerate(row):\n",
    "            if col == 1:\n",
    "                val += stds[ridx].index(r_mapping[cidx]) + 1\n",
    "    return val"
   ]
  },
  {
   "cell_type": "code",
   "execution_count": 39,
   "metadata": {},
   "outputs": [],
   "source": [
    "\n",
    "def energy(matrix1, matrix2):\n",
    "    val1 = obj_fun(matrix1)\n",
    "    val2 = obj_fun(matrix2)\n",
    "    return math.exp((val1 - val2)/C)"
   ]
  },
  {
   "cell_type": "code",
   "execution_count": 44,
   "metadata": {},
   "outputs": [
    {
     "name": "stdout",
     "output_type": "stream",
     "text": [
      "Random sequence  [[[0, 1, 0, 0, 0, 0], [0, 0, 0, 0, 1, 0], [1, 0, 0, 0, 0, 0], [0, 0, 0, 1, 0, 0]]]\n",
      " This is temp  [[0, 0, 0, 0, 1, 0], [0, 0, 1, 0, 0, 0], [1, 0, 0, 0, 0, 0], [0, 0, 0, 1, 0, 0]]\n",
      " This is temp  [[0, 0, 1, 0, 0, 0], [0, 1, 0, 0, 0, 0], [1, 0, 0, 0, 0, 0], [0, 0, 0, 1, 0, 0]]\n",
      " This is temp  [[0, 0, 0, 0, 1, 0], [0, 0, 1, 0, 0, 0], [0, 1, 0, 0, 0, 0], [0, 0, 0, 1, 0, 0]]\n",
      " This is temp  [[0, 1, 0, 0, 0, 0], [0, 0, 0, 1, 0, 0], [1, 0, 0, 0, 0, 0], [0, 0, 0, 0, 1, 0]]\n",
      " This is temp  [[0, 0, 0, 1, 0, 0], [0, 0, 0, 0, 1, 0], [1, 0, 0, 0, 0, 0], [0, 0, 1, 0, 0, 0]]\n",
      " This is temp  [[0, 1, 0, 0, 0, 0], [0, 0, 1, 0, 0, 0], [1, 0, 0, 0, 0, 0], [0, 0, 0, 1, 0, 0]]\n",
      " This is temp  [[0, 0, 0, 1, 0, 0], [0, 1, 0, 0, 0, 0], [1, 0, 0, 0, 0, 0], [0, 0, 0, 0, 1, 0]]\n",
      " This is temp  [[0, 0, 0, 1, 0, 0], [0, 1, 0, 0, 0, 0], [0, 0, 1, 0, 0, 0], [0, 0, 0, 0, 1, 0]]\n",
      " This is temp  [[0, 0, 1, 0, 0, 0], [0, 0, 0, 0, 1, 0], [0, 0, 0, 1, 0, 0], [0, 1, 0, 0, 0, 0]]\n",
      " This is temp  [[0, 0, 0, 1, 0, 0], [0, 0, 0, 0, 1, 0], [0, 0, 1, 0, 0, 0], [0, 1, 0, 0, 0, 0]]\n",
      " This is temp  [[0, 0, 1, 0, 0, 0], [0, 0, 0, 1, 0, 0], [1, 0, 0, 0, 0, 0], [0, 1, 0, 0, 0, 0]]\n",
      " This is temp  [[0, 0, 0, 0, 1, 0], [0, 0, 1, 0, 0, 0], [0, 0, 0, 1, 0, 0], [0, 1, 0, 0, 0, 0]]\n",
      " This is temp  [[0, 1, 0, 0, 0, 0], [0, 0, 1, 0, 0, 0], [0, 0, 0, 1, 0, 0], [0, 0, 0, 0, 1, 0]]\n",
      " This is temp  [[0, 0, 0, 0, 1, 0], [0, 0, 1, 0, 0, 0], [0, 1, 0, 0, 0, 0], [0, 0, 0, 1, 0, 0]]\n",
      " This is temp  [[0, 0, 0, 0, 1, 0], [0, 1, 0, 0, 0, 0], [0, 0, 0, 1, 0, 0], [0, 0, 1, 0, 0, 0]]\n",
      " This is temp  [[0, 0, 1, 0, 0, 0], [0, 1, 0, 0, 0, 0], [1, 0, 0, 0, 0, 0], [0, 0, 0, 0, 1, 0]]\n",
      " This is temp  [[0, 0, 0, 0, 1, 0], [0, 0, 1, 0, 0, 0], [0, 1, 0, 0, 0, 0], [0, 0, 0, 1, 0, 0]]\n",
      " This is temp  [[0, 1, 0, 0, 0, 0], [0, 0, 1, 0, 0, 0], [1, 0, 0, 0, 0, 0], [0, 0, 0, 0, 1, 0]]\n",
      " This is temp  [[0, 0, 0, 0, 1, 0], [0, 0, 0, 1, 0, 0], [0, 1, 0, 0, 0, 0], [0, 0, 1, 0, 0, 0]]\n",
      " This is temp  [[0, 0, 1, 0, 0, 0], [0, 0, 0, 1, 0, 0], [0, 1, 0, 0, 0, 0], [0, 0, 0, 0, 1, 0]]\n",
      " This is temp  [[0, 0, 0, 0, 1, 0], [0, 0, 0, 1, 0, 0], [0, 0, 1, 0, 0, 0], [0, 1, 0, 0, 0, 0]]\n",
      " This is temp  [[0, 0, 1, 0, 0, 0], [0, 1, 0, 0, 0, 0], [0, 0, 0, 1, 0, 0], [0, 0, 0, 0, 1, 0]]\n",
      " This is temp  [[0, 0, 1, 0, 0, 0], [0, 0, 0, 1, 0, 0], [0, 1, 0, 0, 0, 0], [0, 0, 0, 0, 1, 0]]\n",
      " This is temp  [[0, 0, 1, 0, 0, 0], [0, 0, 0, 1, 0, 0], [0, 1, 0, 0, 0, 0], [0, 0, 0, 0, 1, 0]]\n",
      " This is temp  [[0, 1, 0, 0, 0, 0], [0, 0, 1, 0, 0, 0], [0, 0, 0, 1, 0, 0], [0, 0, 0, 0, 1, 0]]\n",
      " This is temp  [[0, 1, 0, 0, 0, 0], [0, 0, 1, 0, 0, 0], [1, 0, 0, 0, 0, 0], [0, 0, 0, 0, 1, 0]]\n",
      " This is temp  [[0, 0, 0, 0, 1, 0], [0, 0, 1, 0, 0, 0], [1, 0, 0, 0, 0, 0], [0, 1, 0, 0, 0, 0]]\n",
      " This is temp  [[0, 0, 1, 0, 0, 0], [0, 0, 0, 1, 0, 0], [0, 1, 0, 0, 0, 0], [0, 0, 0, 0, 1, 0]]\n",
      " This is temp  [[0, 1, 0, 0, 0, 0], [0, 0, 0, 0, 1, 0], [0, 0, 0, 1, 0, 0], [0, 0, 1, 0, 0, 0]]\n",
      " This is temp  [[0, 0, 0, 1, 0, 0], [0, 0, 1, 0, 0, 0], [1, 0, 0, 0, 0, 0], [0, 1, 0, 0, 0, 0]]\n",
      " This is temp  [[0, 0, 0, 0, 1, 0], [0, 0, 1, 0, 0, 0], [1, 0, 0, 0, 0, 0], [0, 1, 0, 0, 0, 0]]\n",
      " This is temp  [[0, 0, 0, 1, 0, 0], [0, 0, 0, 0, 1, 0], [0, 0, 1, 0, 0, 0], [0, 1, 0, 0, 0, 0]]\n",
      " This is temp  [[0, 1, 0, 0, 0, 0], [0, 0, 1, 0, 0, 0], [1, 0, 0, 0, 0, 0], [0, 0, 0, 1, 0, 0]]\n",
      " This is temp  [[0, 0, 0, 0, 1, 0], [0, 0, 0, 1, 0, 0], [0, 0, 1, 0, 0, 0], [0, 1, 0, 0, 0, 0]]\n",
      " This is temp  [[0, 0, 1, 0, 0, 0], [0, 0, 0, 1, 0, 0], [1, 0, 0, 0, 0, 0], [0, 1, 0, 0, 0, 0]]\n",
      " This is temp  [[0, 0, 1, 0, 0, 0], [0, 0, 0, 1, 0, 0], [1, 0, 0, 0, 0, 0], [0, 1, 0, 0, 0, 0]]\n",
      " This is temp  [[0, 0, 0, 1, 0, 0], [0, 0, 0, 0, 1, 0], [1, 0, 0, 0, 0, 0], [0, 0, 1, 0, 0, 0]]\n",
      " This is temp  [[0, 0, 1, 0, 0, 0], [0, 0, 0, 1, 0, 0], [1, 0, 0, 0, 0, 0], [0, 0, 0, 0, 1, 0]]\n",
      " This is temp  [[0, 0, 1, 0, 0, 0], [0, 0, 0, 0, 1, 0], [1, 0, 0, 0, 0, 0], [0, 0, 0, 1, 0, 0]]\n",
      " This is temp  [[0, 1, 0, 0, 0, 0], [0, 0, 0, 0, 1, 0], [0, 0, 0, 1, 0, 0], [0, 0, 1, 0, 0, 0]]\n",
      " This is temp  [[0, 0, 1, 0, 0, 0], [0, 1, 0, 0, 0, 0], [0, 0, 0, 1, 0, 0], [0, 0, 0, 0, 1, 0]]\n",
      " This is temp  [[0, 0, 0, 1, 0, 0], [0, 0, 0, 0, 1, 0], [1, 0, 0, 0, 0, 0], [0, 0, 1, 0, 0, 0]]\n",
      "Student 1 - S2\n",
      "Student 2 - S5\n",
      "Student 3 - S1\n",
      "Student 4 - S4\n",
      "Student 1 assigned to teacher 2\n",
      "Student 2 assigned to teacher 4\n",
      "Student 3 assigned to teacher 1\n",
      "Student 4 assigned to teacher 1\n"
     ]
    }
   ],
   "source": [
    "my_sequence = [random_gen()]\n",
    "# my_sequence\n",
    "print(\"Random sequence \", my_sequence)\n",
    "c_energy = 0\n",
    "max_energy = 0\n",
    "idx = -1\n",
    "for i in range(1000):\n",
    "    idx -= 1\n",
    "    temp = random_gen()\n",
    "    ctr = 0\n",
    "    # print(\" This is temp \", temp)\n",
    "    while temp in my_sequence and ctr < 9000:\n",
    "        temp = random_gen()\n",
    "        ctr += 1\n",
    "    if ctr == 9000:\n",
    "        break\n",
    "\n",
    "    my_sequence.append(temp)\n",
    "    c_energy = energy(my_sequence[-1], temp)\n",
    "    \n",
    "    if c_energy > max_energy:\n",
    "        max_energy = c_energy\n",
    "        idx = -1\n",
    "    \n",
    "for r_idx, row in enumerate(my_sequence[idx]):\n",
    "    for c_idx, col in enumerate(row):\n",
    "        if col == 1:\n",
    "            print(\"Student\", r_idx + 1, \"-\", r_mapping[c_idx])\n",
    "\n",
    "ans_seq, val = teach_constraint(my_sequence[idx])\n",
    "for idx, val in enumerate(ans_seq):\n",
    "    print(\"Student\", idx + 1, \"assigned to teacher\", val + 1)"
   ]
  }
 ],
 "metadata": {
  "interpreter": {
   "hash": "613a864b8f896d7f41ad4497a5c70a3b724ddc041803ce8cf53fc8979ff8d180"
  },
  "kernelspec": {
   "display_name": "Python 3.8.5 ('base')",
   "language": "python",
   "name": "python3"
  },
  "language_info": {
   "codemirror_mode": {
    "name": "ipython",
    "version": 3
   },
   "file_extension": ".py",
   "mimetype": "text/x-python",
   "name": "python",
   "nbconvert_exporter": "python",
   "pygments_lexer": "ipython3",
   "version": "3.8.5"
  },
  "orig_nbformat": 4
 },
 "nbformat": 4,
 "nbformat_minor": 2
}
