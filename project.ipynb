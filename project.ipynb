{
 "cells": [
  {
   "cell_type": "code",
   "execution_count": 53,
   "metadata": {},
   "outputs": [],
   "source": [
    "import math\n",
    "import random"
   ]
  },
  {
   "cell_type": "code",
   "execution_count": 54,
   "metadata": {},
   "outputs": [
    {
     "data": {
      "text/plain": [
       "['S1', 'S2', 'S3', 'S4', 'S5', 'S6', 'S7', 'S8', 'S9', 'S10']"
      ]
     },
     "execution_count": 54,
     "metadata": {},
     "output_type": "execute_result"
    }
   ],
   "source": [
    "# project input files contains the list of projects\n",
    "with open('./project_input.txt') as file:\n",
    "    projects = file.read().split()\n",
    "\n",
    "projects"
   ]
  },
  {
   "cell_type": "code",
   "execution_count": 55,
   "metadata": {},
   "outputs": [],
   "source": [
    "# prompt for to take no of teachers and no of students as input\n",
    "no_of_teachers = int(input('Enter no. of teachers '))\n",
    "no_of_students = int(input('Enter no. of students '))\n"
   ]
  },
  {
   "cell_type": "code",
   "execution_count": 56,
   "metadata": {},
   "outputs": [],
   "source": [
    "# maintaining the students and teachers dictionary\n",
    "students = {}\n",
    "teachers = {}\n",
    "\n",
    "# denotes that a teacher can't supervise more than two project\n",
    "TEACHER_LIMIT = 2"
   ]
  },
  {
   "cell_type": "code",
   "execution_count": 57,
   "metadata": {},
   "outputs": [
    {
     "name": "stdout",
     "output_type": "stream",
     "text": [
      "Project to index mapping: \n",
      " {0: 'S1', 1: 'S2', 2: 'S3', 3: 'S4', 4: 'S5', 5: 'S6', 6: 'S7', 7: 'S8', 8: 'S9', 9: 'S10'}\n",
      "Project to student ratio:  2\n"
     ]
    }
   ],
   "source": [
    "no_of_projects = len(projects)\n",
    "# mapping each project to a particular index\n",
    "project_index_mapping = {idx : i for idx, i in enumerate(projects)}\n",
    "# finding ratio of projects to students\n",
    "project_student_ratio = no_of_projects//no_of_students\n",
    "print(\"Project to index mapping: \\n\", project_index_mapping)\n",
    "print(\"Project to student ratio: \", project_student_ratio)"
   ]
  },
  {
   "cell_type": "code",
   "execution_count": 58,
   "metadata": {},
   "outputs": [
    {
     "name": "stdout",
     "output_type": "stream",
     "text": [
      "Students: \n",
      " {0: ['S1', 'S2', 'S3', 'S10'], 1: ['S3', 'S4', 'S5', 'S7'], 2: ['S5', 'S6', 'S4', 'S10'], 3: ['S7', 'S8', 'S1', 'S2'], 4: ['S9', 'S10', 'S6', 'S8']}\n"
     ]
    }
   ],
   "source": [
    "\"\"\"\n",
    "Below snippet of code generates a students dictionary which contains the list of projects for each student and projects are arranged in \n",
    "increasing order of their preferences\n",
    "\"\"\"\n",
    "for i in range(no_of_students):\n",
    "    if i == no_of_students - 1:\n",
    "        students[i] = [projects[j] for j in range(i*project_student_ratio, no_of_projects)]\n",
    "        continue\n",
    "    students[i] = [projects[i*project_student_ratio + j] for j in range(project_student_ratio)]\n",
    "\n",
    "for i in range(no_of_students):\n",
    "    for temp in range(2):\n",
    "        idx = random.randint(0, no_of_projects - 1)\n",
    "        while project_index_mapping[idx] in students[i]:\n",
    "            idx = random.randint(0, no_of_projects - 1)\n",
    "        students[i].append(project_index_mapping[idx])\n",
    "print(\"Students: \\n\", students)\n"
   ]
  },
  {
   "cell_type": "code",
   "execution_count": 59,
   "metadata": {},
   "outputs": [
    {
     "name": "stdout",
     "output_type": "stream",
     "text": [
      "Teachers: \n",
      " {0: ['S1', 'S2', 'S5', 'S3'], 1: ['S3', 'S4', 'S8', 'S9'], 2: ['S5', 'S6', 'S9', 'S10'], 3: ['S7', 'S8', 'S9', 'S10', 'S6', 'S5']}\n"
     ]
    }
   ],
   "source": [
    "\"\"\"\n",
    "Below snippet of code generates a teachers dictionary which contains the list of projects for each teacher and projects are arranged in \n",
    "increasing order of their preferences \n",
    "\"\"\"\n",
    "project_teacher_ratio = no_of_projects//no_of_teachers\n",
    "for i in range(no_of_teachers):\n",
    "    if i == no_of_teachers - 1:\n",
    "        teachers[i] = [projects[j] for j in range(i*project_teacher_ratio, no_of_projects)]\n",
    "        continue\n",
    "    teachers[i] = [projects[i*project_teacher_ratio + j] for j in range(project_teacher_ratio)]\n",
    "\n",
    "for i in range(no_of_teachers):\n",
    "    for temp in range(2):\n",
    "        idx = random.randint(0, no_of_projects - 1)\n",
    "        while project_index_mapping[idx] in teachers[i]:\n",
    "            idx = random.randint(0, no_of_projects - 1)\n",
    "        teachers[i].append(project_index_mapping[idx])\n",
    "print(\"Teachers: \\n\",teachers)"
   ]
  },
  {
   "cell_type": "code",
   "execution_count": 60,
   "metadata": {},
   "outputs": [],
   "source": [
    "def recurse_call(teach, assign, level, ans_seq):\n",
    "    res_seq = []\n",
    "    if level == no_of_students - 1:\n",
    "        for i in assign[level]:\n",
    "            if teach[i] + 1 <= TEACHER_LIMIT:\n",
    "                ans_seq.append(i)\n",
    "                return ans_seq, True\n",
    "        return ans_seq, False\n",
    "    for i in assign[level]:\n",
    "        if teach[i] + 1 <= TEACHER_LIMIT:\n",
    "            teach[i] += 1\n",
    "            res_seq, ans = recurse_call(teach.copy(), assign.copy(), level + 1, ans_seq)\n",
    "            teach[i] -= 1\n",
    "            if ans == True:\n",
    "                res_seq.append(i)\n",
    "                return res_seq,True\n",
    "    return res_seq, False"
   ]
  },
  {
   "cell_type": "code",
   "execution_count": 61,
   "metadata": {},
   "outputs": [],
   "source": [
    "\"\"\"\n",
    "As we are maintaining a state matrix for teacher as well so the below piece of code checks that each teacher in the state matrix should be assigned to only one student\n",
    "\"\"\"\n",
    "def teach_constraint(matrix):\n",
    "    assign = []\n",
    "    for row in matrix:\n",
    "        for cidx, col in enumerate(row):\n",
    "            if col == 1:\n",
    "                temp = []\n",
    "                for teacher, subject in teachers.items():\n",
    "                    if project_index_mapping[cidx] in subject:\n",
    "                        temp.append(teacher)\n",
    "        assign.append(temp)\n",
    "    teach = [0 for i in range(no_of_teachers)]\n",
    "    ans = False\n",
    "    res_seq = []\n",
    "    for val in assign[0]:\n",
    "        teach[val] = 1\n",
    "        res_seq, ans = recurse_call(teach.copy(), assign.copy(), 1, [])\n",
    "        teach[val] = 0\n",
    "        if ans == True:\n",
    "            res_seq.append(val)\n",
    "            return res_seq, True\n",
    "    return res_seq,False"
   ]
  },
  {
   "cell_type": "code",
   "execution_count": 62,
   "metadata": {},
   "outputs": [],
   "source": [
    "\"\"\"\n",
    "Below piece of code generates random matrix and checks if it satisfies the constraints\n",
    "\"\"\"\n",
    "def random_gen():\n",
    "    matrix = [[0 for j in range(no_of_projects)] for i in range(no_of_students)]\n",
    "    booked = []\n",
    "    t_idx = []\n",
    "    while True:\n",
    "        for ridx in range(no_of_students):\n",
    "            for cidx  in range(no_of_projects):\n",
    "                matrix[ridx][cidx] = 0\n",
    "        for i in range(no_of_students):\n",
    "            idx = random.randint(0,len(projects) - 1)\n",
    "            while not(project_index_mapping[idx] in students[i]) or idx in booked:\n",
    "                idx = random.randint(0,len(projects) - 1)\n",
    "            matrix[i][idx] = 1\n",
    "            booked.append(idx)\n",
    "        res_seq, val = teach_constraint(matrix)\n",
    "        if val:\n",
    "            return matrix.copy()\n",
    "\n",
    "        # if check_constraints(matrix):\n",
    "        #     return matrix.copy()\n",
    "        # else:\n",
    "        #     for i in matrix:\n",
    "        #         for j in range(len(i)):\n",
    "        #             i[j] = 0\n"
   ]
  },
  {
   "cell_type": "code",
   "execution_count": 63,
   "metadata": {},
   "outputs": [],
   "source": [
    "# constant for probability function\n",
    "C = 12"
   ]
  },
  {
   "cell_type": "code",
   "execution_count": 64,
   "metadata": {},
   "outputs": [],
   "source": [
    "# code to calculate the energy correspoding to the random matrix obtained \n",
    "def energy(matrix):\n",
    "    val = 0\n",
    "    for ridx, row in enumerate(matrix):\n",
    "        for cidx, col in enumerate(row):\n",
    "            if col == 1:\n",
    "                val += students[ridx].index(project_index_mapping[cidx]) + 1\n",
    "    return val"
   ]
  },
  {
   "cell_type": "code",
   "execution_count": 65,
   "metadata": {},
   "outputs": [
    {
     "name": "stdout",
     "output_type": "stream",
     "text": [
      "Student 1 - S1\n",
      "Student 2 - S5\n",
      "Student 3 - S6\n",
      "Student 4 - S2\n",
      "Student 5 - S9\n",
      "Student 1 assigned to teacher 1\n",
      "Student 2 assigned to teacher 3\n",
      "Student 3 assigned to teacher 3\n",
      "Student 4 assigned to teacher 1\n",
      "Student 5 assigned to teacher 2\n"
     ]
    }
   ],
   "source": [
    "# Main method\n",
    "my_sequence = [random_gen()]\n",
    "c_energy = energy(my_sequence[0])\n",
    "max_energy = c_energy\n",
    "idx = 0\n",
    "for i in range(100):\n",
    "    temp = random_gen()\n",
    "    ctr = 0\n",
    "    while temp in my_sequence and ctr < 900:\n",
    "        temp = random_gen()\n",
    "        ctr += 1\n",
    "    if ctr == 900:\n",
    "        break\n",
    "    my_sequence.append(temp)\n",
    "    idx -= 1\n",
    "    c_energy = energy(my_sequence[-1])\n",
    "    if c_energy > max_energy or math.exp((max_energy - c_energy)/C) > 0.5:\n",
    "        max_energy = c_energy\n",
    "        idx = -1\n",
    "\n",
    "for r_idx, row in enumerate(my_sequence[idx]):\n",
    "    for c_idx, col in enumerate(row):\n",
    "        if col == 1:\n",
    "            print(\"Student\", r_idx + 1, \"-\", project_index_mapping[c_idx])\n",
    "\n",
    "ans_seq, val = teach_constraint(my_sequence[idx])\n",
    "for student in range(no_of_students):\n",
    "    print(\"Student\", student + 1, \"assigned to teacher\", ans_seq[no_of_students - 1 - student] + 1)"
   ]
  }
 ],
 "metadata": {
  "interpreter": {
   "hash": "613a864b8f896d7f41ad4497a5c70a3b724ddc041803ce8cf53fc8979ff8d180"
  },
  "kernelspec": {
   "display_name": "Python 3.8.5 ('base')",
   "language": "python",
   "name": "python3"
  },
  "language_info": {
   "codemirror_mode": {
    "name": "ipython",
    "version": 3
   },
   "file_extension": ".py",
   "mimetype": "text/x-python",
   "name": "python",
   "nbconvert_exporter": "python",
   "pygments_lexer": "ipython3",
   "version": "3.8.5"
  },
  "orig_nbformat": 4
 },
 "nbformat": 4,
 "nbformat_minor": 2
}
